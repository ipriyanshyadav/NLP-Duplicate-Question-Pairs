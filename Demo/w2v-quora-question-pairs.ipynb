{
 "cells": [
  {
   "cell_type": "code",
   "execution_count": null,
   "metadata": {
    "trusted": true
   },
   "outputs": [],
   "source": [
    "import pandas as pd\n",
    "import numpy as np\n",
    "import seaborn as sns\n",
    "\n",
    "import re\n",
    "from bs4 import BeautifulSoup\n",
    "\n",
    "from sklearn.ensemble import RandomForestClassifier\n",
    "from sklearn.metrics import accuracy_score, confusion_matrix, classification_report"
   ]
  },
  {
   "cell_type": "code",
   "execution_count": null,
   "metadata": {
    "trusted": true
   },
   "outputs": [],
   "source": [
    "a = pd.read_csv(\"../quora-question-pairs/train.csv\")\n",
    "a"
   ]
  },
  {
   "cell_type": "markdown",
   "metadata": {},
   "source": [
    "# Data Cleaning"
   ]
  },
  {
   "cell_type": "code",
   "execution_count": null,
   "metadata": {
    "trusted": true
   },
   "outputs": [],
   "source": [
    "a.shape"
   ]
  },
  {
   "cell_type": "code",
   "execution_count": null,
   "metadata": {
    "trusted": true
   },
   "outputs": [],
   "source": [
    "a = a[[\"question1\", \"question2\", \"is_duplicate\"]].dropna()\n",
    "a.shape"
   ]
  },
  {
   "cell_type": "code",
   "execution_count": null,
   "metadata": {
    "trusted": true
   },
   "outputs": [],
   "source": [
    "a[\"is_duplicate\"].value_counts()"
   ]
  },
  {
   "cell_type": "code",
   "execution_count": null,
   "metadata": {
    "trusted": true
   },
   "outputs": [],
   "source": [
    "print(\"Ratios\")\n",
    "a[\"is_duplicate\"].value_counts() / len(a) * 100"
   ]
  },
  {
   "cell_type": "code",
   "execution_count": null,
   "metadata": {
    "trusted": true
   },
   "outputs": [],
   "source": [
    "a[\"is_duplicate\"].value_counts().plot(kind=\"pie\")"
   ]
  },
  {
   "cell_type": "code",
   "execution_count": null,
   "metadata": {
    "trusted": true
   },
   "outputs": [],
   "source": [
    "a1 = a[a[\"is_duplicate\"] == 0]\n",
    "a2 = a[a[\"is_duplicate\"] == 1]"
   ]
  },
  {
   "cell_type": "code",
   "execution_count": null,
   "metadata": {
    "trusted": true
   },
   "outputs": [],
   "source": [
    "print(a1[\"is_duplicate\"].value_counts())\n",
    "print()\n",
    "print(a2[\"is_duplicate\"].value_counts())"
   ]
  },
  {
   "cell_type": "code",
   "execution_count": null,
   "metadata": {
    "trusted": true
   },
   "outputs": [],
   "source": [
    "a1 = a1.sample(149263, random_state=42)\n",
    "a1.shape"
   ]
  },
  {
   "cell_type": "code",
   "execution_count": null,
   "metadata": {
    "trusted": true
   },
   "outputs": [],
   "source": [
    "a2 = a2.sample(149263, random_state=42)\n",
    "a2.shape"
   ]
  },
  {
   "cell_type": "code",
   "execution_count": null,
   "metadata": {
    "trusted": true
   },
   "outputs": [],
   "source": [
    "df = pd.concat([a1, a2]).reset_index(drop=True)\n",
    "df.shape"
   ]
  },
  {
   "cell_type": "code",
   "execution_count": null,
   "metadata": {
    "trusted": true
   },
   "outputs": [],
   "source": [
    "df[\"is_duplicate\"].value_counts().plot(kind=\"pie\")"
   ]
  },
  {
   "cell_type": "markdown",
   "metadata": {},
   "source": [
    "# Pre-Processing"
   ]
  },
  {
   "cell_type": "code",
   "execution_count": null,
   "metadata": {
    "trusted": true
   },
   "outputs": [],
   "source": [
    "def preprocess(q):\n",
    "\n",
    "    q = str(q).lower().strip()\n",
    "\n",
    "    # Replace certain special characters with their string equivalents\n",
    "    q = q.replace('%', ' percent')\n",
    "    q = q.replace('$', ' dollar ')\n",
    "    q = q.replace('₹', ' rupee ')\n",
    "    q = q.replace('€', ' euro ')\n",
    "    q = q.replace('@', ' at ')\n",
    "\n",
    "    # The pattern '[math]' appears around 900 times in the whole dataset.\n",
    "    q = q.replace('[math]', '')\n",
    "\n",
    "    # Replacing some numbers with string equivalents (not perfect, can be done better to account for more cases)\n",
    "    q = q.replace(',000,000,000 ', 'b ')\n",
    "    q = q.replace(',000,000 ', 'm ')\n",
    "    q = q.replace(',000 ', 'k ')\n",
    "    q = re.sub(r'([0-9]+)000000000', r'\\1b', q)\n",
    "    q = re.sub(r'([0-9]+)000000', r'\\1m', q)\n",
    "    q = re.sub(r'([0-9]+)000', r'\\1k', q)\n",
    "\n",
    "    # Decontracting words\n",
    "    # https://en.wikipedia.org/wiki/Wikipedia%3aList_of_English_contractions\n",
    "    # https://stackoverflow.com/a/19794953\n",
    "    contractions = {\n",
    "    \"ain't\": \"am not\",\n",
    "    \"aren't\": \"are not\",\n",
    "    \"can't\": \"can not\",\n",
    "    \"can't've\": \"can not have\",\n",
    "    \"'cause\": \"because\",\n",
    "    \"could've\": \"could have\",\n",
    "    \"couldn't\": \"could not\",\n",
    "    \"couldn't've\": \"could not have\",\n",
    "    \"didn't\": \"did not\",\n",
    "    \"doesn't\": \"does not\",\n",
    "    \"don't\": \"do not\",\n",
    "    \"hadn't\": \"had not\",\n",
    "    \"hadn't've\": \"had not have\",\n",
    "    \"hasn't\": \"has not\",\n",
    "    \"haven't\": \"have not\",\n",
    "    \"he'd\": \"he would\",\n",
    "    \"he'd've\": \"he would have\",\n",
    "    \"he'll\": \"he will\",\n",
    "    \"he'll've\": \"he will have\",\n",
    "    \"he's\": \"he is\",\n",
    "    \"how'd\": \"how did\",\n",
    "    \"how'd'y\": \"how do you\",\n",
    "    \"how'll\": \"how will\",\n",
    "    \"how's\": \"how is\",\n",
    "    \"i'd\": \"i would\",\n",
    "    \"i'd've\": \"i would have\",\n",
    "    \"i'll\": \"i will\",\n",
    "    \"i'll've\": \"i will have\",\n",
    "    \"i'm\": \"i am\",\n",
    "    \"i've\": \"i have\",\n",
    "    \"isn't\": \"is not\",\n",
    "    \"it'd\": \"it would\",\n",
    "    \"it'd've\": \"it would have\",\n",
    "    \"it'll\": \"it will\",\n",
    "    \"it'll've\": \"it will have\",\n",
    "    \"it's\": \"it is\",\n",
    "    \"let's\": \"let us\",\n",
    "    \"ma'am\": \"madam\",\n",
    "    \"mayn't\": \"may not\",\n",
    "    \"might've\": \"might have\",\n",
    "    \"mightn't\": \"might not\",\n",
    "    \"mightn't've\": \"might not have\",\n",
    "    \"must've\": \"must have\",\n",
    "    \"mustn't\": \"must not\",\n",
    "    \"mustn't've\": \"must not have\",\n",
    "    \"needn't\": \"need not\",\n",
    "    \"needn't've\": \"need not have\",\n",
    "    \"o'clock\": \"of the clock\",\n",
    "    \"oughtn't\": \"ought not\",\n",
    "    \"oughtn't've\": \"ought not have\",\n",
    "    \"shan't\": \"shall not\",\n",
    "    \"sha'n't\": \"shall not\",\n",
    "    \"shan't've\": \"shall not have\",\n",
    "    \"she'd\": \"she would\",\n",
    "    \"she'd've\": \"she would have\",\n",
    "    \"she'll\": \"she will\",\n",
    "    \"she'll've\": \"she will have\",\n",
    "    \"she's\": \"she is\",\n",
    "    \"should've\": \"should have\",\n",
    "    \"shouldn't\": \"should not\",\n",
    "    \"shouldn't've\": \"should not have\",\n",
    "    \"so've\": \"so have\",\n",
    "    \"so's\": \"so as\",\n",
    "    \"that'd\": \"that would\",\n",
    "    \"that'd've\": \"that would have\",\n",
    "    \"that's\": \"that is\",\n",
    "    \"there'd\": \"there would\",\n",
    "    \"there'd've\": \"there would have\",\n",
    "    \"there's\": \"there is\",\n",
    "    \"they'd\": \"they would\",\n",
    "    \"they'd've\": \"they would have\",\n",
    "    \"they'll\": \"they will\",\n",
    "    \"they'll've\": \"they will have\",\n",
    "    \"they're\": \"they are\",\n",
    "    \"they've\": \"they have\",\n",
    "    \"to've\": \"to have\",\n",
    "    \"wasn't\": \"was not\",\n",
    "    \"we'd\": \"we would\",\n",
    "    \"we'd've\": \"we would have\",\n",
    "    \"we'll\": \"we will\",\n",
    "    \"we'll've\": \"we will have\",\n",
    "    \"we're\": \"we are\",\n",
    "    \"we've\": \"we have\",\n",
    "    \"weren't\": \"were not\",\n",
    "    \"what'll\": \"what will\",\n",
    "    \"what'll've\": \"what will have\",\n",
    "    \"what're\": \"what are\",\n",
    "    \"what's\": \"what is\",\n",
    "    \"what've\": \"what have\",\n",
    "    \"when's\": \"when is\",\n",
    "    \"when've\": \"when have\",\n",
    "    \"where'd\": \"where did\",\n",
    "    \"where's\": \"where is\",\n",
    "    \"where've\": \"where have\",\n",
    "    \"who'll\": \"who will\",\n",
    "    \"who'll've\": \"who will have\",\n",
    "    \"who's\": \"who is\",\n",
    "    \"who've\": \"who have\",\n",
    "    \"why's\": \"why is\",\n",
    "    \"why've\": \"why have\",\n",
    "    \"will've\": \"will have\",\n",
    "    \"won't\": \"will not\",\n",
    "    \"won't've\": \"will not have\",\n",
    "    \"would've\": \"would have\",\n",
    "    \"wouldn't\": \"would not\",\n",
    "    \"wouldn't've\": \"would not have\",\n",
    "    \"y'all\": \"you all\",\n",
    "    \"y'all'd\": \"you all would\",\n",
    "    \"y'all'd've\": \"you all would have\",\n",
    "    \"y'all're\": \"you all are\",\n",
    "    \"y'all've\": \"you all have\",\n",
    "    \"you'd\": \"you would\",\n",
    "    \"you'd've\": \"you would have\",\n",
    "    \"you'll\": \"you will\",\n",
    "    \"you'll've\": \"you will have\",\n",
    "    \"you're\": \"you are\",\n",
    "    \"you've\": \"you have\"\n",
    "    }\n",
    "\n",
    "    q_decontracted = []\n",
    "\n",
    "    for word in q.split():\n",
    "        if word in contractions:\n",
    "            word = contractions[word]\n",
    "\n",
    "        q_decontracted.append(word)\n",
    "\n",
    "    q = ' '.join(q_decontracted)\n",
    "    q = q.replace(\"'ve\", \" have\")\n",
    "    q = q.replace(\"n't\", \" not\")\n",
    "    q = q.replace(\"'re\", \" are\")\n",
    "    q = q.replace(\"'ll\", \" will\")\n",
    "\n",
    "    # Removing HTML tags\n",
    "    q = BeautifulSoup(q)\n",
    "    q = q.get_text()\n",
    "\n",
    "    # Remove punctuations\n",
    "    pattern = re.compile('\\W')\n",
    "    q = re.sub(pattern, ' ', q).strip()\n",
    "\n",
    "    # Stemming\n",
    "    from nltk.stem import PorterStemmer\n",
    "\n",
    "    stemmer = PorterStemmer()\n",
    "    q = ' '.join([stemmer.stem(word) for word in q.split()])\n",
    "\n",
    "    return q"
   ]
  },
  {
   "cell_type": "code",
   "execution_count": null,
   "metadata": {
    "trusted": true
   },
   "outputs": [],
   "source": [
    "df[\"question1\"]= df[\"question1\"].apply(preprocess)\n",
    "df[\"question2\"]= df[\"question2\"].apply(preprocess)"
   ]
  },
  {
   "cell_type": "markdown",
   "metadata": {},
   "source": [
    "# Feature Engineering"
   ]
  },
  {
   "cell_type": "code",
   "execution_count": null,
   "metadata": {
    "trusted": true
   },
   "outputs": [],
   "source": [
    "df1 = df[[\"question1\", \"question2\"]].copy()\n",
    "\n",
    "df1[\"q1_len\"] = df1[\"question1\"].str.len()\n",
    "df1[\"q2_len\"] = df1[\"question2\"].str.len()\n",
    "\n",
    "df1[\"q1_num_words\"] = df1[\"question1\"].apply(lambda x: len(str(x).split()))\n",
    "df1[\"q2_num_words\"] = df1[\"question2\"].apply(lambda x: len(str(x).split()))\n",
    "\n",
    "df1.head()"
   ]
  },
  {
   "cell_type": "code",
   "execution_count": null,
   "metadata": {
    "trusted": true
   },
   "outputs": [],
   "source": [
    "def common_words(row):\n",
    "    w1 = set(map(lambda x: x.lower().strip(), str(row[\"question1\"]).split()))\n",
    "    w2 = set(map(lambda x: x.lower().strip(), str(row[\"question2\"]).split()))\n",
    "    return len(w1 & w2)\n",
    "\n",
    "def word_total(row):\n",
    "    w1 = str(row['question1']).split()\n",
    "    w2 = str(row['question2']).split()\n",
    "    return len(w1) + len(w2)\n",
    "\n",
    "df1[\"word_common\"] = df1.apply(common_words, axis=1)\n",
    "df1[\"word_total\"] = df1.apply(word_total, axis=1)\n",
    "\n",
    "df1[\"word_share\"] = df1.apply(lambda x: round(x[\"word_common\"] / x[\"word_total\"], 2) if x[\"word_total\"] > 0 else 0, axis=1)\n",
    "\n",
    "df1.head()"
   ]
  },
  {
   "cell_type": "markdown",
   "metadata": {},
   "source": [
    "# Advanced Features\n",
    "\n",
    "## 1. Token Features\n",
    "\n",
    "cwc_min: This is the ratio of the number of common words to the length of the smaller question\n",
    "cwc_max: This is the ratio of the number of common words to the length of the larger question\n",
    "csc_min: This is the ratio of the number of common stop words to the smaller stop word count among the two questions\n",
    "csc_max: This is the ratio of the number of common stop words to the larger stop word count among the two questions\n",
    "ctc_min: This is the ratio of the number of common tokens to the smaller token count among the two questions\n",
    "ctc_max: This is the ratio of the number of common tokens to the larger token count among the two questions\n",
    "last_word_eq: 1 if the last word in the two questions is same, 0 otherwise\n",
    "first_word_eq: 1 if the first word in the two questions is same, 0 otherwise\n",
    "\n",
    "## 2. Length Based Features\n",
    "\n",
    "mean_len: Mean of the length of the two questions (number of words)\n",
    "abs_len_diff: Absolute difference between the length of the two questions (number of words)\n",
    "longest_substr_ratio: Ratio of the length of the longest substring among the two questions to the length of the smaller question\n",
    "\n",
    "## 3. Fuzzy Features\n",
    "\n",
    "fuzz_ratio: fuzz_ratio score from fuzzywuzzy\n",
    "fuzz_partial_ratio: fuzz_partial_ratio from fuzzywuzzy\n",
    "token_sort_ratio: token_sort_ratio from fuzzywuzzy\n",
    "token_set_ratio: token_set_ratio from fuzzywuzzy"
   ]
  },
  {
   "cell_type": "code",
   "execution_count": null,
   "metadata": {
    "trusted": true
   },
   "outputs": [],
   "source": [
    "import nltk\n",
    "nltk.download('stopwords')\n",
    "\n",
    "from nltk.corpus import stopwords\n",
    "\n",
    "def fetch_token_features(row):\n",
    "\n",
    "    q1 = row['question1']\n",
    "    q2 = row['question2']\n",
    "\n",
    "    SAFE_DIV = 0.0001\n",
    "\n",
    "    STOP_WORDS = stopwords.words(\"english\")\n",
    "\n",
    "    token_features = [0.0]*8\n",
    "\n",
    "    # Converting the Sentence into Tokens:\n",
    "    q1_tokens = q1.split()\n",
    "    q2_tokens = q2.split()\n",
    "\n",
    "    if len(q1_tokens) == 0 or len(q2_tokens) == 0:\n",
    "        return token_features\n",
    "\n",
    "    # Get the non-stopwords in Questions\n",
    "    q1_words = set([word for word in q1_tokens if word not in STOP_WORDS])\n",
    "    q2_words = set([word for word in q2_tokens if word not in STOP_WORDS])\n",
    "\n",
    "    #Get the stopwords in Questions\n",
    "    q1_stops = set([word for word in q1_tokens if word in STOP_WORDS])\n",
    "    q2_stops = set([word for word in q2_tokens if word in STOP_WORDS])\n",
    "\n",
    "    # Get the common non-stopwords from Question pair\n",
    "    common_word_count = len(q1_words.intersection(q2_words))\n",
    "\n",
    "    # Get the common stopwords from Question pair\n",
    "    common_stop_count = len(q1_stops.intersection(q2_stops))\n",
    "\n",
    "    # Get the common Tokens from Question pair\n",
    "    common_token_count = len(set(q1_tokens).intersection(set(q2_tokens)))\n",
    "\n",
    "\n",
    "    token_features[0] = common_word_count / (min(len(q1_words), len(q2_words)) + SAFE_DIV)\n",
    "    token_features[1] = common_word_count / (max(len(q1_words), len(q2_words)) + SAFE_DIV)\n",
    "    token_features[2] = common_stop_count / (min(len(q1_stops), len(q2_stops)) + SAFE_DIV)\n",
    "    token_features[3] = common_stop_count / (max(len(q1_stops), len(q2_stops)) + SAFE_DIV)\n",
    "    token_features[4] = common_token_count / (min(len(q1_tokens), len(q2_tokens)) + SAFE_DIV)\n",
    "    token_features[5] = common_token_count / (max(len(q1_tokens), len(q2_tokens)) + SAFE_DIV)\n",
    "\n",
    "    # Last word of both question is same or not\n",
    "    token_features[6] = int(q1_tokens[-1] == q2_tokens[-1])\n",
    "\n",
    "    # First word of both question is same or not\n",
    "    token_features[7] = int(q1_tokens[0] == q2_tokens[0])\n",
    "\n",
    "    return token_features"
   ]
  },
  {
   "cell_type": "code",
   "execution_count": null,
   "metadata": {
    "trusted": true
   },
   "outputs": [],
   "source": [
    "token_features = df1.apply(fetch_token_features, axis=1)\n",
    "\n",
    "df1[\"cwc_min\"]       = list(map(lambda x: x[0], token_features))\n",
    "df1[\"cwc_max\"]       = list(map(lambda x: x[1], token_features))\n",
    "df1[\"csc_min\"]       = list(map(lambda x: x[2], token_features))\n",
    "df1[\"csc_max\"]       = list(map(lambda x: x[3], token_features))\n",
    "df1[\"ctc_min\"]       = list(map(lambda x: x[4], token_features))\n",
    "df1[\"ctc_max\"]       = list(map(lambda x: x[5], token_features))\n",
    "df1[\"last_word_eq\"]  = list(map(lambda x: x[6], token_features))\n",
    "df1[\"first_word_eq\"] = list(map(lambda x: x[7], token_features))\n",
    "\n",
    "df1.head()"
   ]
  },
  {
   "cell_type": "code",
   "execution_count": null,
   "metadata": {
    "trusted": true
   },
   "outputs": [],
   "source": [
    "import distance\n",
    "\n",
    "def fetch_length_features(row):\n",
    "\n",
    "    q1 = row['question1']\n",
    "    q2 = row['question2']\n",
    "\n",
    "    length_features = [0.0]*3\n",
    "\n",
    "    # Converting the Sentence into Tokens:\n",
    "    q1_tokens = q1.split()\n",
    "    q2_tokens = q2.split()\n",
    "\n",
    "    if len(q1_tokens) == 0 or len(q2_tokens) == 0:\n",
    "        return length_features\n",
    "\n",
    "    # Absolute length features\n",
    "    length_features[0] = abs(len(q1_tokens) - len(q2_tokens))\n",
    "\n",
    "    #Average Token Length of both Questions\n",
    "    length_features[1] = (len(q1_tokens) + len(q2_tokens))/2\n",
    "\n",
    "    strs = list(distance.lcsubstrings(q1, q2))\n",
    "    length_features[2] = len(strs[0]) / (min(len(q1), len(q2)) + 1) if strs else 0\n",
    "\n",
    "    return length_features"
   ]
  },
  {
   "cell_type": "code",
   "execution_count": null,
   "metadata": {
    "trusted": true
   },
   "outputs": [],
   "source": [
    "length_features = df1.apply(fetch_length_features, axis=1)\n",
    "\n",
    "df1['abs_len_diff'] = list(map(lambda x: x[0], length_features))\n",
    "df1['mean_len'] = list(map(lambda x: x[1], length_features))\n",
    "df1['longest_substr_ratio'] = list(map(lambda x: x[2], length_features))\n",
    "\n",
    "df1.head()"
   ]
  },
  {
   "cell_type": "code",
   "execution_count": null,
   "metadata": {
    "trusted": true
   },
   "outputs": [],
   "source": [
    "from fuzzywuzzy import fuzz\n",
    "\n",
    "def fetch_fuzzy_features(row):\n",
    "\n",
    "    q1 = row['question1']\n",
    "    q2 = row['question2']\n",
    "\n",
    "    fuzzy_features = [0.0]*4\n",
    "\n",
    "    # fuzz_ratio\n",
    "    fuzzy_features[0] = fuzz.QRatio(q1, q2)\n",
    "\n",
    "    # fuzz_partial_ratio\n",
    "    fuzzy_features[1] = fuzz.partial_ratio(q1, q2)\n",
    "\n",
    "    # token_sort_ratio\n",
    "    fuzzy_features[2] = fuzz.token_sort_ratio(q1, q2)\n",
    "\n",
    "    # token_set_ratio\n",
    "    fuzzy_features[3] = fuzz.token_set_ratio(q1, q2)\n",
    "\n",
    "    return fuzzy_features"
   ]
  },
  {
   "cell_type": "code",
   "execution_count": null,
   "metadata": {
    "trusted": true
   },
   "outputs": [],
   "source": [
    "fuzzy_features = df1.apply(fetch_fuzzy_features, axis=1)\n",
    "\n",
    "# Creating new feature columns for fuzzy features\n",
    "df1['fuzz_ratio'] = list(map(lambda x: x[0], fuzzy_features))\n",
    "df1['fuzz_partial_ratio'] = list(map(lambda x: x[1], fuzzy_features))\n",
    "df1['token_sort_ratio'] = list(map(lambda x: x[2], fuzzy_features))\n",
    "df1['token_set_ratio'] = list(map(lambda x: x[3], fuzzy_features))\n",
    "\n",
    "df1.head()"
   ]
  },
  {
   "cell_type": "markdown",
   "metadata": {},
   "source": [
    "# EDA"
   ]
  },
  {
   "cell_type": "code",
   "execution_count": null,
   "metadata": {
    "trusted": true
   },
   "outputs": [],
   "source": [
    "df1[\"is_duplicate\"] = df[\"is_duplicate\"]\n",
    "df= df1.copy()\n",
    "df.head()"
   ]
  },
  {
   "cell_type": "code",
   "execution_count": null,
   "metadata": {
    "trusted": true
   },
   "outputs": [],
   "source": [
    "sns.pairplot(df[['ctc_min', 'cwc_min', 'csc_min', 'is_duplicate']],hue='is_duplicate')"
   ]
  },
  {
   "cell_type": "code",
   "execution_count": null,
   "metadata": {
    "trusted": true
   },
   "outputs": [],
   "source": [
    "sns.pairplot(df[['ctc_max', 'cwc_max', 'csc_max', 'is_duplicate']],hue='is_duplicate')"
   ]
  },
  {
   "cell_type": "code",
   "execution_count": null,
   "metadata": {
    "trusted": true
   },
   "outputs": [],
   "source": [
    "sns.pairplot(df[['last_word_eq', 'first_word_eq', 'is_duplicate']],hue='is_duplicate')"
   ]
  },
  {
   "cell_type": "code",
   "execution_count": null,
   "metadata": {
    "trusted": true
   },
   "outputs": [],
   "source": [
    "sns.pairplot(df[['mean_len', 'abs_len_diff','longest_substr_ratio', 'is_duplicate']],hue='is_duplicate')"
   ]
  },
  {
   "cell_type": "code",
   "execution_count": null,
   "metadata": {
    "trusted": true
   },
   "outputs": [],
   "source": [
    "sns.pairplot(df[['fuzz_ratio', 'fuzz_partial_ratio','token_sort_ratio','token_set_ratio', 'is_duplicate']],hue='is_duplicate')"
   ]
  },
  {
   "cell_type": "markdown",
   "metadata": {},
   "source": [
    "# Word2Vec"
   ]
  },
  {
   "cell_type": "code",
   "execution_count": null,
   "metadata": {
    "trusted": true
   },
   "outputs": [],
   "source": [
    "df1= df[[\"question1\", \"question2\"]].copy()\n",
    "df1.head()"
   ]
  },
  {
   "cell_type": "code",
   "execution_count": null,
   "metadata": {
    "trusted": true
   },
   "outputs": [],
   "source": [
    "df2= df.drop(columns= [\"question1\", \"question2\", \"is_duplicate\"])\n",
    "df2.head()"
   ]
  },
  {
   "cell_type": "code",
   "execution_count": null,
   "metadata": {
    "trusted": true
   },
   "outputs": [],
   "source": [
    "import gensim"
   ]
  },
  {
   "cell_type": "code",
   "execution_count": null,
   "metadata": {
    "trusted": true
   },
   "outputs": [],
   "source": [
    "questions= list(df1[\"question1\"]) + list(df[\"question2\"])\n",
    "\n",
    "ques_sent= []\n",
    "for sentence in questions:\n",
    "    ques_sent.append(gensim.utils.simple_preprocess(sentence))"
   ]
  },
  {
   "cell_type": "code",
   "execution_count": null,
   "metadata": {
    "trusted": true
   },
   "outputs": [],
   "source": [
    "model= gensim.models.Word2Vec(window= 5, min_count= 3, sg= 0, vector_size= 100)\n",
    "model.build_vocab(ques_sent)\n",
    "\n",
    "model.train(corpus_iterable= ques_sent, total_examples= model.corpus_count, epochs= model.epochs)"
   ]
  },
  {
   "cell_type": "code",
   "execution_count": null,
   "metadata": {
    "trusted": true
   },
   "outputs": [],
   "source": [
    "len(model.wv.index_to_key)"
   ]
  },
  {
   "cell_type": "code",
   "execution_count": null,
   "metadata": {
    "trusted": true
   },
   "outputs": [],
   "source": [
    "def document_vector(doc):\n",
    "    # remove oov words\n",
    "    doc = [word for word in doc.split() if word in model.wv.index_to_key]\n",
    "    if len(doc) == 0:\n",
    "        return np.zeros(model.vector_size)  # return zero vector for empty docs\n",
    "    return np.mean(model.wv[doc], axis=0)"
   ]
  },
  {
   "cell_type": "code",
   "execution_count": null,
   "metadata": {
    "trusted": true
   },
   "outputs": [],
   "source": [
    "from tqdm import tqdm"
   ]
  },
  {
   "cell_type": "code",
   "execution_count": null,
   "metadata": {
    "trusted": true
   },
   "outputs": [],
   "source": [
    "X_list= []\n",
    "for doc in tqdm(df1[\"question1\"].values):\n",
    "    X_list.append(document_vector(doc))\n",
    "\n",
    "y_list= []\n",
    "for doc in tqdm(df1[\"question2\"].values):\n",
    "    y_list.append(document_vector(doc))\n",
    "\n",
    "X_array= np.array(X_list)\n",
    "y_array= np.array(y_list)"
   ]
  },
  {
   "cell_type": "code",
   "execution_count": null,
   "metadata": {
    "trusted": true
   },
   "outputs": [],
   "source": [
    "w2v_features= np.concatenate([X_array, y_array], axis= 1)\n",
    "manual_features = df2[[\"q1_len\", \"q2_len\", \"q1_num_words\", \"q2_num_words\", \"word_common\", \"word_total\", \"word_share\", \"cwc_min\", \"cwc_max\", \"csc_min\", \"csc_max\", \"ctc_min\", \"ctc_max\", \"last_word_eq\", \"first_word_eq\", \"abs_len_diff\", \"mean_len\", \"longest_substr_ratio\", \"fuzz_ratio\", \"fuzz_partial_ratio\", \"token_sort_ratio\", \"token_set_ratio\"]].values\n",
    "\n",
    "X = np.concatenate([w2v_features, manual_features], axis=1)\n",
    "y = df[\"is_duplicate\"].values\n",
    "\n",
    "print(f\"Final feature matrix shape: {X.shape}\")\n",
    "print(f\"Target shape: {y.shape}\")"
   ]
  },
  {
   "cell_type": "markdown",
   "metadata": {},
   "source": [
    "# Model Training"
   ]
  },
  {
   "cell_type": "code",
   "execution_count": null,
   "metadata": {
    "trusted": true
   },
   "outputs": [],
   "source": [
    "from sklearn.model_selection import train_test_split\n",
    "X_train, X_test, y_train, y_test= train_test_split(X, y, test_size= 0.2, random_state= 42, stratify= y)\n",
    "\n",
    "rf= RandomForestClassifier(n_estimators= 100, random_state= 42)\n",
    "rf.fit(X_train, y_train)\n",
    "\n",
    "y_pred= rf.predict(X_test)\n",
    "accuracy = accuracy_score(y_test, y_pred) * 100\n",
    "\n",
    "print(f\"Accuracy: {accuracy:.3f}%\")\n",
    "print(\"\\nClassification Report:\")\n",
    "print(classification_report(y_test, y_pred))"
   ]
  },
  {
   "cell_type": "markdown",
   "metadata": {},
   "source": [
    "# Prediction Function"
   ]
  },
  {
   "cell_type": "code",
   "execution_count": null,
   "metadata": {
    "trusted": true
   },
   "outputs": [],
   "source": [
    "def get_w2v_features(text):\n",
    "    \"\"\"Convert text to W2V features by averaging word vectors\"\"\"\n",
    "    words = text.split()\n",
    "    word_vectors = []\n",
    "\n",
    "    for word in words:\n",
    "        if word in model.wv:\n",
    "            word_vectors.append(model.wv[word])\n",
    "\n",
    "    if word_vectors:\n",
    "        return np.mean(word_vectors, axis=0)\n",
    "    else:\n",
    "        return np.zeros(model.vector_size)\n",
    "\n",
    "\n",
    "\n",
    "def prediction(q1, q2):\n",
    "    \"\"\"Predict if two questions are duplicates using W2V features\"\"\"\n",
    "\n",
    "    # Preprocess the questions\n",
    "    q1_processed = preprocess(q1)\n",
    "    q2_processed = preprocess(q2)\n",
    "\n",
    "    # W2V features\n",
    "    q1_w2v = get_w2v_features(q1_processed)\n",
    "    q2_w2v = get_w2v_features(q2_processed)\n",
    "\n",
    "    # Manual features\n",
    "    q1_len = len(q1_processed)\n",
    "    q2_len = len(q2_processed)\n",
    "    q1_num_words = len(q1_processed.split())\n",
    "    q2_num_words = len(q2_processed.split())\n",
    "\n",
    "    # Common words\n",
    "    w1 = set(map(lambda x: x.lower().strip(), q1_processed.split()))\n",
    "    w2 = set(map(lambda x: x.lower().strip(), q2_processed.split()))\n",
    "    word_common = len(w1 & w2)\n",
    "    word_total = len(q1_processed.split()) + len(q2_processed.split())\n",
    "    word_share = round(word_common / word_total, 2) if word_total > 0 else 0\n",
    "\n",
    "    # Token features\n",
    "    from nltk.corpus import stopwords\n",
    "    STOP_WORDS = stopwords.words(\"english\")\n",
    "    SAFE_DIV = 0.0001\n",
    "\n",
    "    q1_tokens = q1_processed.split()\n",
    "    q2_tokens = q2_processed.split()\n",
    "\n",
    "    if len(q1_tokens) == 0 or len(q2_tokens) == 0:\n",
    "        token_features = [0.0] * 8\n",
    "    else:\n",
    "        q1_words = set([word for word in q1_tokens if word not in STOP_WORDS])\n",
    "        q2_words = set([word for word in q2_tokens if word not in STOP_WORDS])\n",
    "        q1_stops = set([word for word in q1_tokens if word in STOP_WORDS])\n",
    "        q2_stops = set([word for word in q2_tokens if word in STOP_WORDS])\n",
    "\n",
    "        common_word_count = len(q1_words.intersection(q2_words))\n",
    "        common_stop_count = len(q1_stops.intersection(q2_stops))\n",
    "        common_token_count = len(set(q1_tokens).intersection(set(q2_tokens)))\n",
    "\n",
    "        token_features = [\n",
    "            common_word_count / (min(len(q1_words), len(q2_words)) + SAFE_DIV),\n",
    "            common_word_count / (max(len(q1_words), len(q2_words)) + SAFE_DIV),\n",
    "            common_stop_count / (min(len(q1_stops), len(q2_stops)) + SAFE_DIV),\n",
    "            common_stop_count / (max(len(q1_stops), len(q2_stops)) + SAFE_DIV),\n",
    "            common_token_count / (min(len(q1_tokens), len(q2_tokens)) + SAFE_DIV),\n",
    "            common_token_count / (max(len(q1_tokens), len(q2_tokens)) + SAFE_DIV),\n",
    "            int(q1_tokens[-1] == q2_tokens[-1]) if q1_tokens and q2_tokens else 0,\n",
    "            int(q1_tokens[0] == q2_tokens[0]) if q1_tokens and q2_tokens else 0\n",
    "        ]\n",
    "\n",
    "    # Length features\n",
    "    import distance\n",
    "    abs_len_diff = abs(len(q1_tokens) - len(q2_tokens))\n",
    "    mean_len = (len(q1_tokens) + len(q2_tokens)) / 2\n",
    "    strs = list(distance.lcsubstrings(q1_processed, q2_processed))\n",
    "    longest_substr_ratio = len(strs[0]) / (min(len(q1_processed), len(q2_processed)) + 1) if strs else 0\n",
    "\n",
    "    # Fuzzy features\n",
    "    from fuzzywuzzy import fuzz\n",
    "    fuzz_ratio = fuzz.QRatio(q1_processed, q2_processed)\n",
    "    fuzz_partial_ratio = fuzz.partial_ratio(q1_processed, q2_processed)\n",
    "    token_sort_ratio = fuzz.token_sort_ratio(q1_processed, q2_processed)\n",
    "    token_set_ratio = fuzz.token_set_ratio(q1_processed, q2_processed)\n",
    "\n",
    "    # Combine features\n",
    "    w2v_features = np.concatenate([q1_w2v, q2_w2v])\n",
    "    manual_features = np.array([\n",
    "        q1_len, q2_len, q1_num_words, q2_num_words, word_common, word_total, word_share,\n",
    "        *token_features, abs_len_diff, mean_len, longest_substr_ratio,\n",
    "        fuzz_ratio, fuzz_partial_ratio, token_sort_ratio, token_set_ratio\n",
    "    ])\n",
    "\n",
    "    features = np.concatenate([w2v_features, manual_features]).reshape(1, -1)\n",
    "\n",
    "    # Make prediction\n",
    "    pred = rf.predict(features)[0]\n",
    "    prob = rf.predict_proba(features)[0]\n",
    "\n",
    "    return pred, prob"
   ]
  },
  {
   "cell_type": "code",
   "execution_count": null,
   "metadata": {
    "trusted": true
   },
   "outputs": [],
   "source": [
    "test_cases = [\n",
    "    (\"What is the capital of India\", \"What is the capital of India\"),\n",
    "    (\"What is the capital of India\", \"What is the capital of France\"),\n",
    "    (\"How do I learn Python\", \"How can I learn Python programming\"),\n",
    "    (\"What is machine learning\", \"How does a car engine work\"),\n",
    "    (\"How to lose weight fast\", \"What are quick ways to reduce weight\")\n",
    "]\n",
    "\n",
    "for q1, q2 in test_cases:\n",
    "    pred, prob = prediction(q1, q2)\n",
    "    print(f\"Q1: {q1}\")\n",
    "    print(f\"Q2: {q2}\")\n",
    "    confidence = prob[1]*100 if pred == 1 else (1 - prob[1])*100\n",
    "    print(f\"Prediction: {pred} (Confidence: {confidence:.1f}%)\")\n",
    "    print(\"-\" * 80)"
   ]
  }
 ],
 "metadata": {
  "kernelspec": {
   "display_name": "Python 3",
   "language": "python",
   "name": "python3"
  },
  "language_info": {
   "codemirror_mode": {
    "name": "ipython",
    "version": 3
   },
   "file_extension": ".py",
   "mimetype": "text/x-python",
   "name": "python",
   "nbconvert_exporter": "python",
   "pygments_lexer": "ipython3",
   "version": "3.6.4"
  }
 },
 "nbformat": 4,
 "nbformat_minor": 4
}
